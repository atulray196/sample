{
 "cells": [
  {
   "cell_type": "code",
   "execution_count": 12,
   "metadata": {},
   "outputs": [
    {
     "name": "stdout",
     "output_type": "stream",
     "text": [
      "age: 20 years\n"
     ]
    }
   ],
   "source": [
    "#program05\n",
    "\n",
    "import datetime \n",
    "\n",
    "class ExitException(Exception):\n",
    "   pass\n",
    "\n",
    "class ValidateException(Exception):\n",
    "   pass\n",
    "\n",
    "try:\n",
    "   date = input(\"Enter the date of birth: \")\n",
    "   if not date:\n",
    "     raise ValueError(\"Please enter a valid input; it cannot be an empty string.\")\n",
    "   if date.lower() == \"q\":\n",
    "        raise ExitException\n",
    "   dob= datetime.datetime.strptime(date, \"%d/%m/%Y\")\n",
    "   current_date=datetime.datetime.now()\n",
    "   age = current_date.year - dob.year - ((current_date.month, current_date.day) < (dob.month, dob.day))\n",
    "   print(\"age:\",age,\"years\")\n",
    "   if date == \"?\":\n",
    "        print(\"Enter the date in the format: dd/mm/yyyy\")\n",
    "except ValueError as e:\n",
    "    print(e)\n",
    "except ExitException:\n",
    "   print(\"Bye! Hope you run this program again.\")\n",
    "except ValueError:\n",
    "   raise ValidateException(\"Incorrect date format. Should be (dd/mm/yyyy)\")\n"
   ]
  },
  {
   "cell_type": "code",
   "execution_count": null,
   "metadata": {},
   "outputs": [],
   "source": []
  }
 ],
 "metadata": {
  "kernelspec": {
   "display_name": "Python 3",
   "language": "python",
   "name": "python3"
  },
  "language_info": {
   "codemirror_mode": {
    "name": "ipython",
    "version": 3
   },
   "file_extension": ".py",
   "mimetype": "text/x-python",
   "name": "python",
   "nbconvert_exporter": "python",
   "pygments_lexer": "ipython3",
   "version": "3.11.4"
  },
  "orig_nbformat": 4
 },
 "nbformat": 4,
 "nbformat_minor": 2
}
